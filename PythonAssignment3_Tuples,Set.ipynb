{
 "cells": [
  {
   "cell_type": "markdown",
   "id": "51f01a9d",
   "metadata": {},
   "source": [
    "1.1 Write a Python Program to implement your own myreduce() function which works exactly  like Python's built-in function reduce() "
   ]
  },
  {
   "cell_type": "code",
   "execution_count": 26,
   "id": "3a58e9e7",
   "metadata": {},
   "outputs": [],
   "source": [
    "def myreduce(funcName, seq):\n",
    "    l = len(seq)\n",
    "    index = 0\n",
    "    sol = 0\n",
    "    while index < l:\n",
    "        if index == 0 and l != 1:\n",
    "            sol = funcName(seq[index], seq[index+1])\n",
    "            index += 2\n",
    "        elif index == 0 and l == 1:\n",
    "            sol = seq[index]\n",
    "            break\n",
    "        else:\n",
    "            sol = funcName(sol, seq[index])\n",
    "            index += 1\n",
    "    return sol\n",
    "\n"
   ]
  },
  {
   "cell_type": "code",
   "execution_count": 31,
   "id": "860bc5cf",
   "metadata": {},
   "outputs": [
    {
     "name": "stdout",
     "output_type": "stream",
     "text": [
      "User defined add : functools.reduce 237, myreduce 237\n",
      "User defined max : functools.reduce 123, myreduce 123\n",
      "Multiplication result : functools.reduce -635506560, myreduce -635506560\n",
      "Concaetination result : functools.reduce geeksforgeeks, myreduce geeksforgeeks\n"
     ]
    }
   ],
   "source": [
    "# Testing 1.1\n",
    "\n",
    "import functools\n",
    "import operator\n",
    "\n",
    "def myMax(x, y):\n",
    "    if x > y:\n",
    "        return x\n",
    "    else:\n",
    "        return y\n",
    "\n",
    "def add(x, y):\n",
    "    return x + y\n",
    "\n",
    "lst = [1, 2, 3,65, 12, 123, 23, 12, -4]\n",
    " \n",
    "result = functools.reduce(add, lst)\n",
    "myresult = myreduce(add, lst)\n",
    "\n",
    "print(\"User defined add : functools.reduce {}, myreduce {}\".format(result, myresult))\n",
    "\n",
    "result = functools.reduce(myMax, lst)\n",
    "myresult = myreduce(myMax, lst)\n",
    "\n",
    "print(\"User defined max : functools.reduce {}, myreduce {}\".format(result, myresult))\n",
    "\n",
    "result = functools.reduce(operator.mul, lst)\n",
    "myresult = myreduce(operator.mul, lst)\n",
    "\n",
    "print(\"Multiplication result : functools.reduce {}, myreduce {}\".format(result, myresult))\n",
    "\n",
    "result = functools.reduce(operator.add, [\"geeks\", \"for\", \"geeks\"])\n",
    "myresult = myreduce(operator.add, [\"geeks\", \"for\", \"geeks\"])\n",
    "\n",
    "print(\"Concaetination result : functools.reduce {}, myreduce {}\".format(result, myresult))\n"
   ]
  },
  {
   "cell_type": "markdown",
   "id": "80baf3f9",
   "metadata": {},
   "source": [
    "1.2 Write a Python program to implement your own myfilter() function which works exactly  like Python's built-in function filter() "
   ]
  },
  {
   "cell_type": "code",
   "execution_count": 40,
   "id": "bbc78192",
   "metadata": {},
   "outputs": [],
   "source": [
    "def myFilter(funcName,seq):\n",
    "    result = []\n",
    "    for item in seq:\n",
    "        if funcName(item):\n",
    "            result.append(item)\n",
    "    return result"
   ]
  },
  {
   "cell_type": "code",
   "execution_count": 41,
   "id": "3f36e644",
   "metadata": {},
   "outputs": [
    {
     "name": "stdout",
     "output_type": "stream",
     "text": [
      "Vowels : filter ['e', 'e'], my filter ['e', 'e']\n",
      "Even numbers : filter [4, 34, 122], my filter [4, 34, 122]\n"
     ]
    }
   ],
   "source": [
    "# function that filters vowels\n",
    "def findVowels(variable):\n",
    "    letters = ['a', 'e', 'i', 'o', 'u']\n",
    "    if (variable in letters):\n",
    "        return True\n",
    "    else:\n",
    "        return False\n",
    "\n",
    "def findEven(number):\n",
    "    if number % 2 == 0:\n",
    "        return True\n",
    "    else:\n",
    "        return False\n",
    "    \n",
    "# numbers\n",
    "numbers = [1, 4, 5, 7, 3, 34, 567, 3, 567, 122]\n",
    "  \n",
    "# sequence\n",
    "sequence = ['g', 'e', 'e', 'j', 'k', 's', 'p', 'r']\n",
    "\n",
    "# using filter function\n",
    "filtered = filter(findVowels, sequence)\n",
    "myfiltered = myFilter(findVowels, sequence)\n",
    "\n",
    "print(\"Vowels : filter {}, my filter {}\".format(list(filtered), list(myfiltered)))\n",
    "\n",
    "# using filter function\n",
    "filtered = filter(findEven, numbers)\n",
    "myfiltered = myFilter(findEven, numbers)\n",
    "\n",
    "print(\"Even numbers : filter {}, my filter {}\".format(list(filtered), list(myfiltered)))"
   ]
  },
  {
   "cell_type": "markdown",
   "id": "77b2c580",
   "metadata": {},
   "source": [
    "2. Write List comprehensions to produce the following Lists."
   ]
  },
  {
   "cell_type": "code",
   "execution_count": 19,
   "id": "5a5bf09b",
   "metadata": {},
   "outputs": [
    {
     "data": {
      "text/plain": [
       "['A', 'C', 'A', 'D', 'G', 'I', 'L', 'D']"
      ]
     },
     "execution_count": 19,
     "metadata": {},
     "output_type": "execute_result"
    }
   ],
   "source": [
    "# ['A', 'C', 'A', 'D', 'G', 'I', ’L’, ‘ D’] \n",
    "[ch for ch in \"ACADGILD\"]"
   ]
  },
  {
   "cell_type": "code",
   "execution_count": 9,
   "id": "822caed5",
   "metadata": {},
   "outputs": [
    {
     "data": {
      "text/plain": [
       "['x', 'xx', 'xxx', 'xxxx', 'y', 'yy', 'yyy', 'yyyy', 'z', 'zz', 'zzz', 'zzzz']"
      ]
     },
     "execution_count": 9,
     "metadata": {},
     "output_type": "execute_result"
    }
   ],
   "source": [
    "# ['x', 'xx', 'xxx', 'xxxx', 'y', 'yy', 'yyy', 'yyyy', 'z', 'zz', 'zzz', 'zzzz']\n",
    "\n",
    "[ch*i for ch in ('x', 'y', 'z') for i in range(1,5)]"
   ]
  },
  {
   "cell_type": "code",
   "execution_count": 10,
   "id": "6b192b79",
   "metadata": {},
   "outputs": [
    {
     "data": {
      "text/plain": [
       "['x', 'y', 'z', 'xx', 'yy', 'zz', 'xxx', 'yyy', 'zzz', 'xxxx', 'yyyy', 'zzzz']"
      ]
     },
     "execution_count": 10,
     "metadata": {},
     "output_type": "execute_result"
    }
   ],
   "source": [
    "# ['x', 'y', 'z', 'xx', 'yy', 'zz', 'xxx', 'yyy', 'zzz', 'xxxx', 'yyyy', 'zzzz']\n",
    "\n",
    "[ch*i for i in range(1,5) for ch in ('x', 'y', 'z')]"
   ]
  },
  {
   "cell_type": "code",
   "execution_count": 12,
   "id": "fd2c048f",
   "metadata": {},
   "outputs": [
    {
     "data": {
      "text/plain": [
       "[[2], [3], [4], [3], [4], [5], [4], [5], [6]]"
      ]
     },
     "execution_count": 12,
     "metadata": {},
     "output_type": "execute_result"
    }
   ],
   "source": [
    "# [[2], [3], [4], [3], [4], [5], [4], [5], [6]] \n",
    "\n",
    "[[num] for i in range(2,5) for num in range(i,i+3)]"
   ]
  },
  {
   "cell_type": "code",
   "execution_count": 17,
   "id": "f4606892",
   "metadata": {},
   "outputs": [
    {
     "data": {
      "text/plain": [
       "[[2, 3, 4, 5], [3, 4, 5, 6], [4, 5, 6, 7], [5, 6, 7, 8]]"
      ]
     },
     "execution_count": 17,
     "metadata": {},
     "output_type": "execute_result"
    }
   ],
   "source": [
    "# [[2, 3, 4, 5], [3, 4, 5, 6],[4, 5, 6, 7], [5, 6, 7, 8]] \n",
    "[[num, num+1, num+2, num+3] for num in range(2,6)]"
   ]
  },
  {
   "cell_type": "code",
   "execution_count": 18,
   "id": "508df3c4",
   "metadata": {},
   "outputs": [
    {
     "data": {
      "text/plain": [
       "[(1, 1), (2, 1), (3, 1), (1, 2), (2, 2), (3, 2), (1, 3), (2, 3), (3, 3)]"
      ]
     },
     "execution_count": 18,
     "metadata": {},
     "output_type": "execute_result"
    }
   ],
   "source": [
    "# [(1, 1), (2, 1), (3, 1), (1, 2), (2, 2), (3, 2), (1, 3), (2, 3), (3, 3)]\n",
    "[(i,j) for j in range(1,4) for i in range(1,4)]"
   ]
  },
  {
   "cell_type": "code",
   "execution_count": null,
   "id": "71059816",
   "metadata": {},
   "outputs": [],
   "source": []
  }
 ],
 "metadata": {
  "kernelspec": {
   "display_name": "Python 3",
   "language": "python",
   "name": "python3"
  },
  "language_info": {
   "codemirror_mode": {
    "name": "ipython",
    "version": 3
   },
   "file_extension": ".py",
   "mimetype": "text/x-python",
   "name": "python",
   "nbconvert_exporter": "python",
   "pygments_lexer": "ipython3",
   "version": "3.8.8"
  }
 },
 "nbformat": 4,
 "nbformat_minor": 5
}
